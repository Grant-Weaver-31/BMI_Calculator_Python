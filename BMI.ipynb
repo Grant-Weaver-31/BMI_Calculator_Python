{
 "cells": [
  {
   "cell_type": "code",
   "execution_count": 1,
   "id": "507abf49",
   "metadata": {},
   "outputs": [],
   "source": [
    "# I wish to create a BMI calcultor\n",
    "# This calculator will be in metric units"
   ]
  },
  {
   "cell_type": "code",
   "execution_count": 1,
   "id": "f43cb564",
   "metadata": {},
   "outputs": [
    {
     "name": "stdout",
     "output_type": "stream",
     "text": [
      "Enter your height in meters: 1.74\n",
      "Enter your Weight in Kg: 80\n",
      "BMI Calculated is:   26.42356982428326\n",
      "You are overweight\n"
     ]
    }
   ],
   "source": [
    "h=float(input(\"Enter your height in meters: \"))\n",
    "w=float(input(\"Enter your Weight in Kg: \"))\n",
    " \n",
    "BMI=w/(h*h)\n",
    "print(\"BMI Calculated is:  \",BMI)\n",
    " \n",
    "if(BMI>0):\n",
    "    if(BMI<=16):\n",
    "        print(\"You are very underweight\")\n",
    "    elif(BMI<=18.5):\n",
    "        print(\"You are underweight\")\n",
    "    elif(BMI<=25):\n",
    "        print(\"Congrats! You are Healthy\")\n",
    "    elif(BMI<=30):\n",
    "        print(\"You are overweight\")\n",
    "    else: \n",
    "        print(\"You are very overweight\")\n",
    "else:\n",
    "    print(\"enter valid details\")"
   ]
  },
  {
   "cell_type": "code",
   "execution_count": null,
   "id": "f43b8410",
   "metadata": {},
   "outputs": [],
   "source": []
  }
 ],
 "metadata": {
  "kernelspec": {
   "display_name": "Python 3 (ipykernel)",
   "language": "python",
   "name": "python3"
  },
  "language_info": {
   "codemirror_mode": {
    "name": "ipython",
    "version": 3
   },
   "file_extension": ".py",
   "mimetype": "text/x-python",
   "name": "python",
   "nbconvert_exporter": "python",
   "pygments_lexer": "ipython3",
   "version": "3.9.13"
  }
 },
 "nbformat": 4,
 "nbformat_minor": 5
}
